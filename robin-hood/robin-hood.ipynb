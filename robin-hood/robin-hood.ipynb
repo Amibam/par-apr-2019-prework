{
 "cells": [
  {
   "cell_type": "markdown",
   "metadata": {},
   "source": [
    "# Robin Hood:\n",
    "We are in a competition to win the archery contest in Sherwood. With our bow and arrows we shoot on a target and try to hit as close as possible to the center.\n",
    "\n",
    "The center of the target is represented by the values (0, 0) on the coordinate axes.\n",
    "\n",
    "![](images/arrows.jpg)\n",
    "\n",
    "## Goals:\n",
    "* data structures: lists, sets, tuples\n",
    "* logical operators: if-elif-else\n",
    "* loop: while/for\n",
    "* minimum (optional sorting)\n",
    "\n",
    "## Description:\n",
    "In the 2-dimensional space, a point can be defined by a pair of values that correspond to the horizontal coordinate (x) and the vertical coordinate (y). The space can be divided into 4 zones (quadrants): Q1, Q2, Q3, Q4. Whose single point of union is the point (0, 0).\n",
    "\n",
    "If a point is in Q1 both its x coordinate and the y are positive. I leave a link to wikipedia to familiarize yourself with these quadrants.\n",
    "\n",
    "https://en.wikipedia.org/wiki/Cartesian_coordinate_system\n",
    "\n",
    "https://en.wikipedia.org/wiki/Euclidean_distance\n",
    "\n",
    "## Shots\n",
    "```\n",
    "points = [(4, 5), (-0, 2), (4, 7), (1, -3), (3, -2), (4, 5),\n",
    "          (3, 2), (5, 7), (-5, 7), (2, 2), (-4, 5), (0, -2),\n",
    "          (-4, 7), (-1, 3), (-3, 2), (-4, -5), (-3, 2),\n",
    "          (5, 7), (5, 7), (2, 2), (9, 9), (-8, -9)]\n",
    "```\n",
    "\n",
    "## Tasks\n",
    "1. Robin Hood is famous for hitting an arrow with another arrow. Did you get it?\n",
    "2. Calculate how many arrows have fallen in each quadrant.\n",
    "3. Find the point closest to the center. Calculate its distance to the center. \n",
    "4. If the target has a radius of 9, calculate the number of arrows that must be picked up in the forest."
   ]
  },
  {
   "cell_type": "code",
   "execution_count": 1,
   "metadata": {},
   "outputs": [],
   "source": [
    "# Variables\n",
    "\n",
    "points = [(4, 5), (-0, 2), (4, 7), (1, -3), (3, -2), (4, 5),\n",
    "          (3, 2), (5, 7), (-5, 7), (2, 2), (-4, 5), (0, -2),\n",
    "          (-4, 7), (-1, 3), (-3, 2), (-4, -5), (-3, 2),\n",
    "          (5, 7), (5, 7), (2, 2), (9, 9), (-8, -9)]"
   ]
  },
  {
   "cell_type": "code",
   "execution_count": 1,
   "metadata": {},
   "outputs": [
    {
     "data": {
      "text/plain": [
       "{(-8, -9),\n",
       " (-5, 7),\n",
       " (-4, -5),\n",
       " (-4, 5),\n",
       " (-4, 7),\n",
       " (-3, 2),\n",
       " (-1, 3),\n",
       " (0, -2),\n",
       " (0, 2),\n",
       " (1, -3),\n",
       " (2, 2),\n",
       " (3, -2),\n",
       " (3, 2),\n",
       " (4, 5),\n",
       " (4, 7),\n",
       " (5, 7),\n",
       " (9, 9)}"
      ]
     },
     "execution_count": 1,
     "metadata": {},
     "output_type": "execute_result"
    }
   ],
   "source": [
    "# 1. Robin Hood is famous for hitting an arrow with another arrow. Did you get it?\n",
    "points = [(4, 5), (-0, 2), (4, 7), (1, -3), (3, -2), (4, 5),\n",
    "          (3, 2), (5, 7), (-5, 7), (2, 2), (-4, 5), (0, -2),\n",
    "          (-4, 7), (-1, 3), (-3, 2), (-4, -5), (-3, 2),\n",
    "          (5, 7), (5, 7), (2, 2), (9, 9), (-8, -9)]\n",
    "uniques = set(points)\n",
    "uniques\n"
   ]
  },
  {
   "cell_type": "code",
   "execution_count": 9,
   "metadata": {},
   "outputs": [
    {
     "name": "stdout",
     "output_type": "stream",
     "text": [
      "point (4, 5)is in Q1\n",
      "point(0, 2)is in Q4\n",
      "point (4, 7)is in Q1\n",
      "point(1, -3)is in Q2\n",
      "point(3, -2)is in Q2\n",
      "point (4, 5)is in Q1\n",
      "point (3, 2)is in Q1\n",
      "point (5, 7)is in Q1\n",
      "point(-5, 7)is in Q4\n",
      "point (2, 2)is in Q1\n",
      "point(-4, 5)is in Q4\n",
      "point(0, -2)is in Q4\n",
      "point(-4, 7)is in Q4\n",
      "point(-1, 3)is in Q4\n",
      "point(-3, 2)is in Q4\n",
      "point(-4, -5)is in Q3\n",
      "point(-3, 2)is in Q4\n",
      "point (5, 7)is in Q1\n",
      "point (5, 7)is in Q1\n",
      "point (2, 2)is in Q1\n",
      "point (9, 9)is in Q1\n",
      "point(-8, -9)is in Q3\n"
     ]
    }
   ],
   "source": [
    "# 2. Calculate how many arrows have fallen in each quadrant.\n",
    "for i in points:\n",
    "    x, y = i\n",
    "    \n",
    "    \n",
    "    if (x>0 and y>0):\n",
    "        print (\"point \" + str(i) + \"is in Q1\")\n",
    "    elif (x>0 and y<0):\n",
    "        print (\"point\"+ str(i) + \"is in Q2\")\n",
    "    elif (x< 0 and y<0):\n",
    "        print (\"point\" + str(i) + \"is in Q3\")\n",
    "    else:\n",
    "        print (\"point\" + str(i) + \"is in Q4\")"
   ]
  },
  {
   "cell_type": "code",
   "execution_count": 1,
   "metadata": {},
   "outputs": [],
   "source": [
    "# 3. Find the point closest to the center. Calculate its distance to the center\n",
    "# Defining a function that calculates the distance to the center can help.\n",
    "for arrow_position1 in points:\n",
    "    position_x1,position_y1= arrow_position1\n",
    "    position_x2,position_y2= arrow_position2\n",
    "    distance_to_the_center= ((position_x1-position_x2)**2 + (position_y1-position_y2)**2)\n",
    "    \n",
    "    arrow_position=0\n",
    "for i in points:\n",
    "    x, y = i\n",
    "    \n",
    "print (\"distance to the center\", distance_to_the_center)\n",
    "\n",
    "if distance_to_the_center1 < distance_to_the_center2:\n",
    "    print(\"Arrow is closer to the center\")\n",
    "elif distance_to_the_center1 == distance_to_the_center2:\n",
    "    print(\"Arrow are at the same distance to the center\")\n",
    "else:\n",
    "    print(\"Arrow is not on the target at all\")\n",
    "\n",
    "print (\"Point closest to the center is\", point)"
   ]
  },
  {
   "cell_type": "code",
   "execution_count": 27,
   "metadata": {},
   "outputs": [
    {
     "name": "stdout",
     "output_type": "stream",
     "text": [
      "Arrow is not on the target at all\n"
     ]
    }
   ],
   "source": [
    "# 4. If the target has a radius of 9, calculate the number of arrows that \n",
    "# must be picked up in the forest.\n",
    "for i inside points \n",
    "\n",
    "if distance_to_the_center < 9:\n",
    "    print(\"Arrow is to be picked up\")\n",
    "elif distance_to_the_center > 9:\n",
    "    print(\"Arrow is not to be picked up\")\n",
    "else:\n",
    "    print(\"Arrow is not on the target at all\")"
   ]
  }
 ],
 "metadata": {
  "kernelspec": {
   "display_name": "Python 3",
   "language": "python",
   "name": "python3"
  },
  "language_info": {
   "codemirror_mode": {
    "name": "ipython",
    "version": 3
   },
   "file_extension": ".py",
   "mimetype": "text/x-python",
   "name": "python",
   "nbconvert_exporter": "python",
   "pygments_lexer": "ipython3",
   "version": "3.7.3"
  }
 },
 "nbformat": 4,
 "nbformat_minor": 2
}
